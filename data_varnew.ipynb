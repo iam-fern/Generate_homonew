{
  "nbformat": 4,
  "nbformat_minor": 0,
  "metadata": {
    "colab": {
      "name": "data_varnew.ipynb",
      "provenance": [],
      "include_colab_link": true
    },
    "kernelspec": {
      "name": "python3",
      "display_name": "Python 3"
    },
    "language_info": {
      "name": "python"
    }
  },
  "cells": [
    {
      "cell_type": "markdown",
      "metadata": {
        "id": "view-in-github",
        "colab_type": "text"
      },
      "source": [
        "<a href=\"https://colab.research.google.com/github/iam-fern/Generate_homonew/blob/main/data_varnew.ipynb\" target=\"_parent\"><img src=\"https://colab.research.google.com/assets/colab-badge.svg\" alt=\"Open In Colab\"/></a>"
      ]
    },
    {
      "cell_type": "markdown",
      "metadata": {
        "id": "byXsWNU60cf1"
      },
      "source": [
        "#Generating random numbers from a uniform distribution\n",
        "https://subscription.packtpub.com/book/big_data_and_business_intelligence/9781787125698/12/ch25lvl1sec126/generating-random-numbers-from-a-uniform-distribution"
      ]
    },
    {
      "cell_type": "code",
      "metadata": {
        "id": "v72YiLRL0bNa",
        "outputId": "31ac7774-e0ff-46e6-dc0e-bb996d0c15e7",
        "colab": {
          "base_uri": "https://localhost:8080/"
        }
      },
      "source": [
        "import pandas as pd\n",
        "import numpy as np\n",
        "import scipy as sp\n",
        "import matplotlib.pyplot as plt\n",
        "from scipy.stats import norm\n",
        "from numpy.random import normal\n",
        "import statistics\n",
        "import statistics as stats\n",
        "import scipy.stats as ss\n",
        "from scipy import stats\n",
        "import scipy.stats as stats\n",
        "import random\n",
        "import statsmodels.api as sm\n",
        "%matplotlib inline\n",
        "from google.colab import files"
      ],
      "execution_count": 1,
      "outputs": [
        {
          "output_type": "stream",
          "name": "stderr",
          "text": [
            "/usr/local/lib/python3.7/dist-packages/statsmodels/tools/_testing.py:19: FutureWarning: pandas.util.testing is deprecated. Use the functions in the public API at pandas.testing instead.\n",
            "  import pandas.util.testing as tm\n"
          ]
        }
      ]
    },
    {
      "cell_type": "code",
      "source": [
        "sp.random.seed(314157)"
      ],
      "metadata": {
        "id": "QAjrLrdL5T5D"
      },
      "execution_count": 2,
      "outputs": []
    },
    {
      "cell_type": "code",
      "source": [
        "n=250\n",
        "rep=0\n",
        "#sp.random.seed(314157)\n",
        "table_data_all=pd.DataFrame({\"rep\":[]})\n",
        "\n",
        "for i in range(1000):\n",
        "    data = pd.DataFrame({\"X1\" : sp.random.uniform(20, 100, n),\n",
        "                         \"X2\" : sp.random.uniform(20, 100, n),\n",
        "                         \"X3\" : sp.random.uniform(20, 100, n)})\n",
        "    table_data = data.copy()\n",
        "    table_data[\"e\"] = table_data[\"X2\"].apply(lambda X2: np.random.normal(0, 1))\n",
        "\n",
        "    # ==========================================\n",
        "\n",
        "    # table_data = data_new.copy()\n",
        "\n",
        "\n",
        "    table_data[\"Y\"] = 10 + table_data[\"X1\"] + table_data[\"X2\"] + table_data[\"X3\"] + table_data[\"e\"]\n",
        "    \n",
        "    table_data=table_data.reset_index(drop=True).reset_index()\n",
        "    table_data[\"rep\"]=rep\n",
        "    new_data = table_data.copy()\n",
        "\n",
        "    # ==========================================\n",
        "    x = new_data[[\"X1\", \"X2\", \"X3\",]]\n",
        "    y = new_data[\"Y\"]\n",
        "    x = sm.add_constant(x)\n",
        "    model = sm.OLS(y, x).fit()\n",
        "    y_pred = model.predict(x)\n",
        "\n",
        "    df = pd.DataFrame({\"Actual\": y, \"Predicted\": y_pred})\n",
        "\n",
        "    table_data_new = pd.DataFrame({\"x1\"    : new_data[\"X1\"],\n",
        "                                   \"x2\"    : new_data[\"X2\"],\n",
        "                                   \"x3\"    : new_data[\"X3\"],\n",
        "                                   \"e\"     : new_data[\"e\"],\n",
        "                                   \"Y\"     : df[\"Actual\"],\n",
        "                                   \"y_hat\" : df[\"Predicted\"]})\n",
        "    table_data_new[\"e_hat\"] = table_data_new[\"Y\"] - table_data_new[\"y_hat\"]\n",
        "    table_data_new[\"rep\"] = rep\n",
        "    table_data_new = table_data_new.reset_index()\n",
        "    table_data_new\n",
        "    # ==========================================\n",
        "    table_data_all=pd.concat([table_data_all,table_data_new],axis=0,ignore_index=True,sort=False)\n",
        "    rep+=1\n",
        "    if rep==1000:\n",
        "      break\n",
        "table_data_all=table_data_all.set_index([\"rep\", \"index\"])\n",
        "table_data_all"
      ],
      "metadata": {
        "id": "cIq_D6Q0MvvH",
        "outputId": "a2a021ca-440b-4c88-ca7f-65d9fe608816",
        "colab": {
          "base_uri": "https://localhost:8080/",
          "height": 455
        }
      },
      "execution_count": 31,
      "outputs": [
        {
          "output_type": "execute_result",
          "data": {
            "text/html": [
              "<div>\n",
              "<style scoped>\n",
              "    .dataframe tbody tr th:only-of-type {\n",
              "        vertical-align: middle;\n",
              "    }\n",
              "\n",
              "    .dataframe tbody tr th {\n",
              "        vertical-align: top;\n",
              "    }\n",
              "\n",
              "    .dataframe thead th {\n",
              "        text-align: right;\n",
              "    }\n",
              "</style>\n",
              "<table border=\"1\" class=\"dataframe\">\n",
              "  <thead>\n",
              "    <tr style=\"text-align: right;\">\n",
              "      <th></th>\n",
              "      <th></th>\n",
              "      <th>x1</th>\n",
              "      <th>x2</th>\n",
              "      <th>x3</th>\n",
              "      <th>e</th>\n",
              "      <th>Y</th>\n",
              "      <th>y_hat</th>\n",
              "      <th>e_hat</th>\n",
              "    </tr>\n",
              "    <tr>\n",
              "      <th>rep</th>\n",
              "      <th>index</th>\n",
              "      <th></th>\n",
              "      <th></th>\n",
              "      <th></th>\n",
              "      <th></th>\n",
              "      <th></th>\n",
              "      <th></th>\n",
              "      <th></th>\n",
              "    </tr>\n",
              "  </thead>\n",
              "  <tbody>\n",
              "    <tr>\n",
              "      <th rowspan=\"5\" valign=\"top\">0.0</th>\n",
              "      <th>0.0</th>\n",
              "      <td>32.090180</td>\n",
              "      <td>63.481865</td>\n",
              "      <td>44.494017</td>\n",
              "      <td>-0.511965</td>\n",
              "      <td>149.554097</td>\n",
              "      <td>150.180072</td>\n",
              "      <td>-0.625975</td>\n",
              "    </tr>\n",
              "    <tr>\n",
              "      <th>1.0</th>\n",
              "      <td>22.918788</td>\n",
              "      <td>33.108915</td>\n",
              "      <td>52.423665</td>\n",
              "      <td>-1.284369</td>\n",
              "      <td>117.166999</td>\n",
              "      <td>118.514601</td>\n",
              "      <td>-1.347602</td>\n",
              "    </tr>\n",
              "    <tr>\n",
              "      <th>2.0</th>\n",
              "      <td>94.260387</td>\n",
              "      <td>56.081862</td>\n",
              "      <td>24.905140</td>\n",
              "      <td>0.577279</td>\n",
              "      <td>185.824667</td>\n",
              "      <td>185.240186</td>\n",
              "      <td>0.584481</td>\n",
              "    </tr>\n",
              "    <tr>\n",
              "      <th>3.0</th>\n",
              "      <td>65.636759</td>\n",
              "      <td>40.752420</td>\n",
              "      <td>51.472793</td>\n",
              "      <td>0.764153</td>\n",
              "      <td>168.626125</td>\n",
              "      <td>167.843312</td>\n",
              "      <td>0.782813</td>\n",
              "    </tr>\n",
              "    <tr>\n",
              "      <th>4.0</th>\n",
              "      <td>97.137857</td>\n",
              "      <td>54.229049</td>\n",
              "      <td>63.847257</td>\n",
              "      <td>0.237373</td>\n",
              "      <td>225.451536</td>\n",
              "      <td>225.126235</td>\n",
              "      <td>0.325301</td>\n",
              "    </tr>\n",
              "    <tr>\n",
              "      <th>...</th>\n",
              "      <th>...</th>\n",
              "      <td>...</td>\n",
              "      <td>...</td>\n",
              "      <td>...</td>\n",
              "      <td>...</td>\n",
              "      <td>...</td>\n",
              "      <td>...</td>\n",
              "      <td>...</td>\n",
              "    </tr>\n",
              "    <tr>\n",
              "      <th rowspan=\"5\" valign=\"top\">999.0</th>\n",
              "      <th>245.0</th>\n",
              "      <td>49.646676</td>\n",
              "      <td>50.978722</td>\n",
              "      <td>26.318548</td>\n",
              "      <td>-0.129046</td>\n",
              "      <td>136.814900</td>\n",
              "      <td>136.891456</td>\n",
              "      <td>-0.076555</td>\n",
              "    </tr>\n",
              "    <tr>\n",
              "      <th>246.0</th>\n",
              "      <td>78.779314</td>\n",
              "      <td>34.012604</td>\n",
              "      <td>87.946333</td>\n",
              "      <td>0.959456</td>\n",
              "      <td>211.697706</td>\n",
              "      <td>210.828862</td>\n",
              "      <td>0.868844</td>\n",
              "    </tr>\n",
              "    <tr>\n",
              "      <th>247.0</th>\n",
              "      <td>61.652474</td>\n",
              "      <td>82.101807</td>\n",
              "      <td>97.484738</td>\n",
              "      <td>0.236658</td>\n",
              "      <td>251.475677</td>\n",
              "      <td>251.382523</td>\n",
              "      <td>0.093155</td>\n",
              "    </tr>\n",
              "    <tr>\n",
              "      <th>248.0</th>\n",
              "      <td>46.761180</td>\n",
              "      <td>26.524864</td>\n",
              "      <td>30.500874</td>\n",
              "      <td>1.517077</td>\n",
              "      <td>115.303995</td>\n",
              "      <td>113.711926</td>\n",
              "      <td>1.592069</td>\n",
              "    </tr>\n",
              "    <tr>\n",
              "      <th>249.0</th>\n",
              "      <td>60.073753</td>\n",
              "      <td>40.128998</td>\n",
              "      <td>84.335672</td>\n",
              "      <td>0.538242</td>\n",
              "      <td>195.076664</td>\n",
              "      <td>194.605656</td>\n",
              "      <td>0.471008</td>\n",
              "    </tr>\n",
              "  </tbody>\n",
              "</table>\n",
              "<p>250000 rows × 7 columns</p>\n",
              "</div>"
            ],
            "text/plain": [
              "                    x1         x2         x3  ...           Y       y_hat     e_hat\n",
              "rep   index                                   ...                                  \n",
              "0.0   0.0    32.090180  63.481865  44.494017  ...  149.554097  150.180072 -0.625975\n",
              "      1.0    22.918788  33.108915  52.423665  ...  117.166999  118.514601 -1.347602\n",
              "      2.0    94.260387  56.081862  24.905140  ...  185.824667  185.240186  0.584481\n",
              "      3.0    65.636759  40.752420  51.472793  ...  168.626125  167.843312  0.782813\n",
              "      4.0    97.137857  54.229049  63.847257  ...  225.451536  225.126235  0.325301\n",
              "...                ...        ...        ...  ...         ...         ...       ...\n",
              "999.0 245.0  49.646676  50.978722  26.318548  ...  136.814900  136.891456 -0.076555\n",
              "      246.0  78.779314  34.012604  87.946333  ...  211.697706  210.828862  0.868844\n",
              "      247.0  61.652474  82.101807  97.484738  ...  251.475677  251.382523  0.093155\n",
              "      248.0  46.761180  26.524864  30.500874  ...  115.303995  113.711926  1.592069\n",
              "      249.0  60.073753  40.128998  84.335672  ...  195.076664  194.605656  0.471008\n",
              "\n",
              "[250000 rows x 7 columns]"
            ]
          },
          "metadata": {},
          "execution_count": 31
        }
      ]
    },
    {
      "cell_type": "code",
      "metadata": {
        "colab": {
          "base_uri": "https://localhost:8080/",
          "height": 17
        },
        "id": "h5Qlst3U2Wnq",
        "outputId": "501d9f42-18eb-46af-a9e3-c07dc9b10a95"
      },
      "source": [
        "table_data_all.to_csv('data_newvar3_n250.csv')\n",
        "files.download('data_newvar3_n250.csv')"
      ],
      "execution_count": 32,
      "outputs": [
        {
          "output_type": "display_data",
          "data": {
            "application/javascript": [
              "\n",
              "    async function download(id, filename, size) {\n",
              "      if (!google.colab.kernel.accessAllowed) {\n",
              "        return;\n",
              "      }\n",
              "      const div = document.createElement('div');\n",
              "      const label = document.createElement('label');\n",
              "      label.textContent = `Downloading \"${filename}\": `;\n",
              "      div.appendChild(label);\n",
              "      const progress = document.createElement('progress');\n",
              "      progress.max = size;\n",
              "      div.appendChild(progress);\n",
              "      document.body.appendChild(div);\n",
              "\n",
              "      const buffers = [];\n",
              "      let downloaded = 0;\n",
              "\n",
              "      const channel = await google.colab.kernel.comms.open(id);\n",
              "      // Send a message to notify the kernel that we're ready.\n",
              "      channel.send({})\n",
              "\n",
              "      for await (const message of channel.messages) {\n",
              "        // Send a message to notify the kernel that we're ready.\n",
              "        channel.send({})\n",
              "        if (message.buffers) {\n",
              "          for (const buffer of message.buffers) {\n",
              "            buffers.push(buffer);\n",
              "            downloaded += buffer.byteLength;\n",
              "            progress.value = downloaded;\n",
              "          }\n",
              "        }\n",
              "      }\n",
              "      const blob = new Blob(buffers, {type: 'application/binary'});\n",
              "      const a = document.createElement('a');\n",
              "      a.href = window.URL.createObjectURL(blob);\n",
              "      a.download = filename;\n",
              "      div.appendChild(a);\n",
              "      a.click();\n",
              "      div.remove();\n",
              "    }\n",
              "  "
            ],
            "text/plain": [
              "<IPython.core.display.Javascript object>"
            ]
          },
          "metadata": {}
        },
        {
          "output_type": "display_data",
          "data": {
            "application/javascript": [
              "download(\"download_619bf5f5-2b26-4021-81e0-330af91b15a9\", \"data_newvar3_n250.csv\", 35592879)"
            ],
            "text/plain": [
              "<IPython.core.display.Javascript object>"
            ]
          },
          "metadata": {}
        }
      ]
    }
  ]
}