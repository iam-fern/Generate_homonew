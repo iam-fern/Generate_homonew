{
  "nbformat": 4,
  "nbformat_minor": 0,
  "metadata": {
    "colab": {
      "name": "data_varnew.ipynb",
      "provenance": [],
      "include_colab_link": true
    },
    "kernelspec": {
      "name": "python3",
      "display_name": "Python 3"
    },
    "language_info": {
      "name": "python"
    }
  },
  "cells": [
    {
      "cell_type": "markdown",
      "metadata": {
        "id": "view-in-github",
        "colab_type": "text"
      },
      "source": [
        "<a href=\"https://colab.research.google.com/github/iam-fern/Generate_homonew/blob/main/data_varnew.ipynb\" target=\"_parent\"><img src=\"https://colab.research.google.com/assets/colab-badge.svg\" alt=\"Open In Colab\"/></a>"
      ]
    },
    {
      "cell_type": "markdown",
      "metadata": {
        "id": "byXsWNU60cf1"
      },
      "source": [
        "#Generating random numbers from a uniform distribution\n",
        "https://subscription.packtpub.com/book/big_data_and_business_intelligence/9781787125698/12/ch25lvl1sec126/generating-random-numbers-from-a-uniform-distribution"
      ]
    },
    {
      "cell_type": "code",
      "metadata": {
        "id": "v72YiLRL0bNa",
        "outputId": "1548a24c-7435-4d25-d732-ba378080a7a0",
        "colab": {
          "base_uri": "https://localhost:8080/"
        }
      },
      "source": [
        "import pandas as pd\n",
        "import numpy as np\n",
        "import scipy as sp\n",
        "import matplotlib.pyplot as plt\n",
        "from scipy.stats import norm\n",
        "from numpy.random import normal\n",
        "import statistics\n",
        "import statistics as stats\n",
        "import scipy.stats as ss\n",
        "from scipy import stats\n",
        "import scipy.stats as stats\n",
        "import random\n",
        "import statsmodels.api as sm\n",
        "%matplotlib inline\n",
        "from google.colab import files"
      ],
      "execution_count": 1,
      "outputs": [
        {
          "output_type": "stream",
          "name": "stderr",
          "text": [
            "/usr/local/lib/python3.7/dist-packages/statsmodels/tools/_testing.py:19: FutureWarning: pandas.util.testing is deprecated. Use the functions in the public API at pandas.testing instead.\n",
            "  import pandas.util.testing as tm\n"
          ]
        }
      ]
    },
    {
      "cell_type": "code",
      "source": [
        "n=20\n",
        "rep=0\n",
        "sp.random.seed(123345)\n",
        "table_data_all=pd.DataFrame({\"rep\":[]})\n",
        "\n",
        "for i in range(1000):\n",
        "    data = pd.DataFrame({\"X1\" : sp.random.uniform(20, 100, n),\n",
        "                         \"X2\" : sp.random.uniform(20, 100, n),\n",
        "                         \"X3\" : sp.random.uniform(20, 100, n)})\n",
        "    table_data = data.copy()\n",
        "    table_data[\"e\"] = table_data[\"X2\"].apply(lambda X2: np.random.normal(0, 1*(1+X2)**0))\n",
        "\n",
        "    #=========================\n",
        "\n",
        "    # table_data = data_new.copy()\n",
        "\n",
        "\n",
        "    table_data[\"Y\"] = 10 + table_data[\"X1\"] + table_data[\"X2\"] + table_data[\"X3\"] + table_data[\"e\"]\n",
        "    \n",
        "    table_data=table_data.reset_index(drop=True).reset_index()\n",
        "    table_data[\"rep\"]=rep\n",
        "    new_data = table_data.copy()\n",
        "\n",
        "    # ==========================================\n",
        "    x = new_data[[\"X1\", \"X2\", \"X3\",]]\n",
        "    y = new_data[\"Y\"]\n",
        "    x = sm.add_constant(x)\n",
        "    model = sm.OLS(y, x).fit()\n",
        "    y_pred = model.predict(x)\n",
        "\n",
        "    df = pd.DataFrame({\"Actual\": y, \"Predicted\": y_pred})\n",
        "\n",
        "    table_data_new = pd.DataFrame({\"x1\"   : new_data[\"X1\"],\n",
        "                                \"x2\"   : new_data[\"X2\"],\n",
        "                                \"x3\"   : new_data[\"X3\"],\n",
        "                                \"e\"     : new_data[\"e\"],\n",
        "                                \"Y\"     : df[\"Actual\"],\n",
        "                                \"y_hat\" : df[\"Predicted\"]})\n",
        "    table_data_new[\"e_hat\"] = table_data_new[\"Y\"] - table_data_new[\"y_hat\"]\n",
        "    table_data_new[\"rep\"] = rep\n",
        "    table_data_new = table_data_new.reset_index()\n",
        "    table_data_new\n",
        "    # ====================================================\n",
        "    table_data_all=pd.concat([table_data_all,table_data_new],axis=0,ignore_index=True,sort=False)\n",
        "    rep+=1\n",
        "    if rep==1000:\n",
        "      break\n",
        "table_data_all=table_data_all.set_index([\"rep\", \"index\"])\n",
        "table_data_all"
      ],
      "metadata": {
        "id": "cIq_D6Q0MvvH",
        "outputId": "e65012c9-191d-4cf4-e33e-a9dcb6af0350",
        "colab": {
          "base_uri": "https://localhost:8080/",
          "height": 455
        }
      },
      "execution_count": 2,
      "outputs": [
        {
          "output_type": "execute_result",
          "data": {
            "text/html": [
              "<div>\n",
              "<style scoped>\n",
              "    .dataframe tbody tr th:only-of-type {\n",
              "        vertical-align: middle;\n",
              "    }\n",
              "\n",
              "    .dataframe tbody tr th {\n",
              "        vertical-align: top;\n",
              "    }\n",
              "\n",
              "    .dataframe thead th {\n",
              "        text-align: right;\n",
              "    }\n",
              "</style>\n",
              "<table border=\"1\" class=\"dataframe\">\n",
              "  <thead>\n",
              "    <tr style=\"text-align: right;\">\n",
              "      <th></th>\n",
              "      <th></th>\n",
              "      <th>x1</th>\n",
              "      <th>x2</th>\n",
              "      <th>x3</th>\n",
              "      <th>e</th>\n",
              "      <th>Y</th>\n",
              "      <th>y_hat</th>\n",
              "      <th>e_hat</th>\n",
              "    </tr>\n",
              "    <tr>\n",
              "      <th>rep</th>\n",
              "      <th>index</th>\n",
              "      <th></th>\n",
              "      <th></th>\n",
              "      <th></th>\n",
              "      <th></th>\n",
              "      <th></th>\n",
              "      <th></th>\n",
              "      <th></th>\n",
              "    </tr>\n",
              "  </thead>\n",
              "  <tbody>\n",
              "    <tr>\n",
              "      <th rowspan=\"5\" valign=\"top\">0.0</th>\n",
              "      <th>0.0</th>\n",
              "      <td>43.698982</td>\n",
              "      <td>53.382861</td>\n",
              "      <td>68.671054</td>\n",
              "      <td>1.196748</td>\n",
              "      <td>176.949645</td>\n",
              "      <td>175.793796</td>\n",
              "      <td>1.155850</td>\n",
              "    </tr>\n",
              "    <tr>\n",
              "      <th>1.0</th>\n",
              "      <td>35.822274</td>\n",
              "      <td>48.122361</td>\n",
              "      <td>74.327218</td>\n",
              "      <td>-0.106731</td>\n",
              "      <td>168.165123</td>\n",
              "      <td>168.484196</td>\n",
              "      <td>-0.319073</td>\n",
              "    </tr>\n",
              "    <tr>\n",
              "      <th>2.0</th>\n",
              "      <td>21.161244</td>\n",
              "      <td>66.013140</td>\n",
              "      <td>29.146103</td>\n",
              "      <td>0.788157</td>\n",
              "      <td>127.108645</td>\n",
              "      <td>126.526202</td>\n",
              "      <td>0.582443</td>\n",
              "    </tr>\n",
              "    <tr>\n",
              "      <th>3.0</th>\n",
              "      <td>80.732617</td>\n",
              "      <td>27.721245</td>\n",
              "      <td>79.156022</td>\n",
              "      <td>0.907460</td>\n",
              "      <td>198.517343</td>\n",
              "      <td>197.443846</td>\n",
              "      <td>1.073497</td>\n",
              "    </tr>\n",
              "    <tr>\n",
              "      <th>4.0</th>\n",
              "      <td>79.853972</td>\n",
              "      <td>48.270741</td>\n",
              "      <td>56.016260</td>\n",
              "      <td>-1.700414</td>\n",
              "      <td>192.440560</td>\n",
              "      <td>193.743560</td>\n",
              "      <td>-1.303000</td>\n",
              "    </tr>\n",
              "    <tr>\n",
              "      <th>...</th>\n",
              "      <th>...</th>\n",
              "      <td>...</td>\n",
              "      <td>...</td>\n",
              "      <td>...</td>\n",
              "      <td>...</td>\n",
              "      <td>...</td>\n",
              "      <td>...</td>\n",
              "      <td>...</td>\n",
              "    </tr>\n",
              "    <tr>\n",
              "      <th rowspan=\"5\" valign=\"top\">999.0</th>\n",
              "      <th>15.0</th>\n",
              "      <td>50.789969</td>\n",
              "      <td>40.616324</td>\n",
              "      <td>39.688338</td>\n",
              "      <td>0.511847</td>\n",
              "      <td>141.606479</td>\n",
              "      <td>141.644086</td>\n",
              "      <td>-0.037607</td>\n",
              "    </tr>\n",
              "    <tr>\n",
              "      <th>16.0</th>\n",
              "      <td>58.710507</td>\n",
              "      <td>23.640874</td>\n",
              "      <td>58.834662</td>\n",
              "      <td>1.073836</td>\n",
              "      <td>152.259879</td>\n",
              "      <td>151.353447</td>\n",
              "      <td>0.906432</td>\n",
              "    </tr>\n",
              "    <tr>\n",
              "      <th>17.0</th>\n",
              "      <td>76.395626</td>\n",
              "      <td>92.148713</td>\n",
              "      <td>54.567453</td>\n",
              "      <td>1.021396</td>\n",
              "      <td>234.133188</td>\n",
              "      <td>234.120369</td>\n",
              "      <td>0.012819</td>\n",
              "    </tr>\n",
              "    <tr>\n",
              "      <th>18.0</th>\n",
              "      <td>37.036135</td>\n",
              "      <td>63.901166</td>\n",
              "      <td>70.746790</td>\n",
              "      <td>0.185910</td>\n",
              "      <td>181.870000</td>\n",
              "      <td>182.138247</td>\n",
              "      <td>-0.268247</td>\n",
              "    </tr>\n",
              "    <tr>\n",
              "      <th>19.0</th>\n",
              "      <td>28.686828</td>\n",
              "      <td>24.236595</td>\n",
              "      <td>25.485792</td>\n",
              "      <td>0.811002</td>\n",
              "      <td>89.220218</td>\n",
              "      <td>88.891232</td>\n",
              "      <td>0.328986</td>\n",
              "    </tr>\n",
              "  </tbody>\n",
              "</table>\n",
              "<p>20000 rows × 7 columns</p>\n",
              "</div>"
            ],
            "text/plain": [
              "                    x1         x2         x3  ...           Y       y_hat     e_hat\n",
              "rep   index                                   ...                                  \n",
              "0.0   0.0    43.698982  53.382861  68.671054  ...  176.949645  175.793796  1.155850\n",
              "      1.0    35.822274  48.122361  74.327218  ...  168.165123  168.484196 -0.319073\n",
              "      2.0    21.161244  66.013140  29.146103  ...  127.108645  126.526202  0.582443\n",
              "      3.0    80.732617  27.721245  79.156022  ...  198.517343  197.443846  1.073497\n",
              "      4.0    79.853972  48.270741  56.016260  ...  192.440560  193.743560 -1.303000\n",
              "...                ...        ...        ...  ...         ...         ...       ...\n",
              "999.0 15.0   50.789969  40.616324  39.688338  ...  141.606479  141.644086 -0.037607\n",
              "      16.0   58.710507  23.640874  58.834662  ...  152.259879  151.353447  0.906432\n",
              "      17.0   76.395626  92.148713  54.567453  ...  234.133188  234.120369  0.012819\n",
              "      18.0   37.036135  63.901166  70.746790  ...  181.870000  182.138247 -0.268247\n",
              "      19.0   28.686828  24.236595  25.485792  ...   89.220218   88.891232  0.328986\n",
              "\n",
              "[20000 rows x 7 columns]"
            ]
          },
          "metadata": {},
          "execution_count": 2
        }
      ]
    },
    {
      "cell_type": "code",
      "metadata": {
        "colab": {
          "base_uri": "https://localhost:8080/",
          "height": 17
        },
        "id": "h5Qlst3U2Wnq",
        "outputId": "c0886352-d5c5-444a-beb7-fa95080b1dbe"
      },
      "source": [
        "table_data_all.to_csv('data_newvar1_n20_(1+X2)__0.csv')\n",
        "files.download('data_newvar1_n20_(1+X2)__0.csv')"
      ],
      "execution_count": 3,
      "outputs": [
        {
          "output_type": "display_data",
          "data": {
            "application/javascript": [
              "\n",
              "    async function download(id, filename, size) {\n",
              "      if (!google.colab.kernel.accessAllowed) {\n",
              "        return;\n",
              "      }\n",
              "      const div = document.createElement('div');\n",
              "      const label = document.createElement('label');\n",
              "      label.textContent = `Downloading \"${filename}\": `;\n",
              "      div.appendChild(label);\n",
              "      const progress = document.createElement('progress');\n",
              "      progress.max = size;\n",
              "      div.appendChild(progress);\n",
              "      document.body.appendChild(div);\n",
              "\n",
              "      const buffers = [];\n",
              "      let downloaded = 0;\n",
              "\n",
              "      const channel = await google.colab.kernel.comms.open(id);\n",
              "      // Send a message to notify the kernel that we're ready.\n",
              "      channel.send({})\n",
              "\n",
              "      for await (const message of channel.messages) {\n",
              "        // Send a message to notify the kernel that we're ready.\n",
              "        channel.send({})\n",
              "        if (message.buffers) {\n",
              "          for (const buffer of message.buffers) {\n",
              "            buffers.push(buffer);\n",
              "            downloaded += buffer.byteLength;\n",
              "            progress.value = downloaded;\n",
              "          }\n",
              "        }\n",
              "      }\n",
              "      const blob = new Blob(buffers, {type: 'application/binary'});\n",
              "      const a = document.createElement('a');\n",
              "      a.href = window.URL.createObjectURL(blob);\n",
              "      a.download = filename;\n",
              "      div.appendChild(a);\n",
              "      a.click();\n",
              "      div.remove();\n",
              "    }\n",
              "  "
            ],
            "text/plain": [
              "<IPython.core.display.Javascript object>"
            ]
          },
          "metadata": {}
        },
        {
          "output_type": "display_data",
          "data": {
            "application/javascript": [
              "download(\"download_8394af4c-f6ea-4a6b-ad2f-2f6327820464\", \"data_newvar1_n20_(1+X2)__0.csv\", 2827283)"
            ],
            "text/plain": [
              "<IPython.core.display.Javascript object>"
            ]
          },
          "metadata": {}
        }
      ]
    }
  ]
}