{
  "nbformat": 4,
  "nbformat_minor": 0,
  "metadata": {
    "colab": {
      "name": "data_varnew.ipynb",
      "provenance": [],
      "include_colab_link": true
    },
    "kernelspec": {
      "name": "python3",
      "display_name": "Python 3"
    },
    "language_info": {
      "name": "python"
    }
  },
  "cells": [
    {
      "cell_type": "markdown",
      "metadata": {
        "id": "view-in-github",
        "colab_type": "text"
      },
      "source": [
        "<a href=\"https://colab.research.google.com/github/iam-fern/Generate_homonew/blob/main/data_varnew.ipynb\" target=\"_parent\"><img src=\"https://colab.research.google.com/assets/colab-badge.svg\" alt=\"Open In Colab\"/></a>"
      ]
    },
    {
      "cell_type": "markdown",
      "metadata": {
        "id": "byXsWNU60cf1"
      },
      "source": [
        "#Generating random numbers from a uniform distribution\n",
        "https://subscription.packtpub.com/book/big_data_and_business_intelligence/9781787125698/12/ch25lvl1sec126/generating-random-numbers-from-a-uniform-distribution"
      ]
    },
    {
      "cell_type": "code",
      "metadata": {
        "id": "v72YiLRL0bNa",
        "outputId": "1548a24c-7435-4d25-d732-ba378080a7a0",
        "colab": {
          "base_uri": "https://localhost:8080/"
        }
      },
      "source": [
        "import pandas as pd\n",
        "import numpy as np\n",
        "import scipy as sp\n",
        "import matplotlib.pyplot as plt\n",
        "from scipy.stats import norm\n",
        "from numpy.random import normal\n",
        "import statistics\n",
        "import statistics as stats\n",
        "import scipy.stats as ss\n",
        "from scipy import stats\n",
        "import scipy.stats as stats\n",
        "import random\n",
        "import statsmodels.api as sm\n",
        "%matplotlib inline\n",
        "from google.colab import files"
      ],
      "execution_count": 1,
      "outputs": [
        {
          "output_type": "stream",
          "name": "stderr",
          "text": [
            "/usr/local/lib/python3.7/dist-packages/statsmodels/tools/_testing.py:19: FutureWarning: pandas.util.testing is deprecated. Use the functions in the public API at pandas.testing instead.\n",
            "  import pandas.util.testing as tm\n"
          ]
        }
      ]
    },
    {
      "cell_type": "code",
      "source": [
        "n=250\n",
        "rep=0\n",
        "sp.random.seed(123345)\n",
        "#314157\n",
        "table_data_all=pd.DataFrame({\"rep\":[]})\n",
        "\n",
        "for i in range(1000):\n",
        "    data = pd.DataFrame({\"X1\" : sp.random.uniform(20, 100, n),\n",
        "                         \"X2\" : sp.random.uniform(20, 100, n),\n",
        "                         \"X3\" : sp.random.uniform(20, 100, n)})\n",
        "    table_data = data.copy()\n",
        "    table_data[\"e\"] = table_data[\"X2\"].apply(lambda X2: np.random.normal(0, 1))\n",
        "\n",
        "    #=========================\n",
        "\n",
        "    # table_data = data_new.copy()\n",
        "\n",
        "\n",
        "    table_data[\"Y\"] = 10 + table_data[\"X1\"] + table_data[\"X2\"] + table_data[\"X3\"] + table_data[\"e\"]\n",
        "    \n",
        "    table_data=table_data.reset_index(drop=True).reset_index()\n",
        "    table_data[\"rep\"]=rep\n",
        "    new_data = table_data.copy()\n",
        "\n",
        "    # ==========================================\n",
        "    x = new_data[[\"X1\", \"X2\", \"X3\",]]\n",
        "    y = new_data[\"Y\"]\n",
        "    x = sm.add_constant(x)\n",
        "    model = sm.OLS(y, x).fit()\n",
        "    y_pred = model.predict(x)\n",
        "\n",
        "    df = pd.DataFrame({\"Actual\": y, \"Predicted\": y_pred})\n",
        "\n",
        "    table_data_new = pd.DataFrame({\"x1\"   : new_data[\"X1\"],\n",
        "                                \"x2\"   : new_data[\"X2\"],\n",
        "                                \"x3\"   : new_data[\"X3\"],\n",
        "                                \"e\"     : new_data[\"e\"],\n",
        "                                \"Y\"     : df[\"Actual\"],\n",
        "                                \"y_hat\" : df[\"Predicted\"]})\n",
        "    table_data_new[\"e_hat\"] = table_data_new[\"Y\"] - table_data_new[\"y_hat\"]\n",
        "    table_data_new[\"rep\"] = rep\n",
        "    table_data_new = table_data_new.reset_index()\n",
        "    table_data_new\n",
        "    # ====================================================\n",
        "    table_data_all=pd.concat([table_data_all,table_data_new],axis=0,ignore_index=True,sort=False)\n",
        "    rep+=1\n",
        "    if rep==1000:\n",
        "      break\n",
        "table_data_all=table_data_all.set_index([\"rep\", \"index\"])\n",
        "table_data_all"
      ],
      "metadata": {
        "id": "cIq_D6Q0MvvH",
        "outputId": "2cb2ca20-a301-4a43-90fa-d775f39434af",
        "colab": {
          "base_uri": "https://localhost:8080/",
          "height": 455
        }
      },
      "execution_count": 33,
      "outputs": [
        {
          "output_type": "execute_result",
          "data": {
            "text/html": [
              "<div>\n",
              "<style scoped>\n",
              "    .dataframe tbody tr th:only-of-type {\n",
              "        vertical-align: middle;\n",
              "    }\n",
              "\n",
              "    .dataframe tbody tr th {\n",
              "        vertical-align: top;\n",
              "    }\n",
              "\n",
              "    .dataframe thead th {\n",
              "        text-align: right;\n",
              "    }\n",
              "</style>\n",
              "<table border=\"1\" class=\"dataframe\">\n",
              "  <thead>\n",
              "    <tr style=\"text-align: right;\">\n",
              "      <th></th>\n",
              "      <th></th>\n",
              "      <th>x1</th>\n",
              "      <th>x2</th>\n",
              "      <th>x3</th>\n",
              "      <th>e</th>\n",
              "      <th>Y</th>\n",
              "      <th>y_hat</th>\n",
              "      <th>e_hat</th>\n",
              "    </tr>\n",
              "    <tr>\n",
              "      <th>rep</th>\n",
              "      <th>index</th>\n",
              "      <th></th>\n",
              "      <th></th>\n",
              "      <th></th>\n",
              "      <th></th>\n",
              "      <th></th>\n",
              "      <th></th>\n",
              "      <th></th>\n",
              "    </tr>\n",
              "  </thead>\n",
              "  <tbody>\n",
              "    <tr>\n",
              "      <th rowspan=\"5\" valign=\"top\">0.0</th>\n",
              "      <th>0.0</th>\n",
              "      <td>43.698982</td>\n",
              "      <td>48.033722</td>\n",
              "      <td>98.002996</td>\n",
              "      <td>1.282049</td>\n",
              "      <td>201.017749</td>\n",
              "      <td>200.004546</td>\n",
              "      <td>1.013203</td>\n",
              "    </tr>\n",
              "    <tr>\n",
              "      <th>1.0</th>\n",
              "      <td>35.822274</td>\n",
              "      <td>70.618186</td>\n",
              "      <td>36.910537</td>\n",
              "      <td>-0.649317</td>\n",
              "      <td>152.701680</td>\n",
              "      <td>153.259919</td>\n",
              "      <td>-0.558240</td>\n",
              "    </tr>\n",
              "    <tr>\n",
              "      <th>2.0</th>\n",
              "      <td>21.161244</td>\n",
              "      <td>31.921227</td>\n",
              "      <td>76.981262</td>\n",
              "      <td>-0.657974</td>\n",
              "      <td>139.405758</td>\n",
              "      <td>140.417932</td>\n",
              "      <td>-1.012174</td>\n",
              "    </tr>\n",
              "    <tr>\n",
              "      <th>3.0</th>\n",
              "      <td>80.732617</td>\n",
              "      <td>91.677411</td>\n",
              "      <td>35.302069</td>\n",
              "      <td>0.184806</td>\n",
              "      <td>217.896903</td>\n",
              "      <td>217.316696</td>\n",
              "      <td>0.580207</td>\n",
              "    </tr>\n",
              "    <tr>\n",
              "      <th>4.0</th>\n",
              "      <td>79.853972</td>\n",
              "      <td>23.842953</td>\n",
              "      <td>87.401787</td>\n",
              "      <td>-0.290777</td>\n",
              "      <td>200.807936</td>\n",
              "      <td>201.301229</td>\n",
              "      <td>-0.493292</td>\n",
              "    </tr>\n",
              "    <tr>\n",
              "      <th>...</th>\n",
              "      <th>...</th>\n",
              "      <td>...</td>\n",
              "      <td>...</td>\n",
              "      <td>...</td>\n",
              "      <td>...</td>\n",
              "      <td>...</td>\n",
              "      <td>...</td>\n",
              "      <td>...</td>\n",
              "    </tr>\n",
              "    <tr>\n",
              "      <th rowspan=\"5\" valign=\"top\">999.0</th>\n",
              "      <th>245.0</th>\n",
              "      <td>77.710734</td>\n",
              "      <td>65.471749</td>\n",
              "      <td>71.440028</td>\n",
              "      <td>-2.063368</td>\n",
              "      <td>222.559143</td>\n",
              "      <td>224.589166</td>\n",
              "      <td>-2.030023</td>\n",
              "    </tr>\n",
              "    <tr>\n",
              "      <th>246.0</th>\n",
              "      <td>41.375839</td>\n",
              "      <td>45.211620</td>\n",
              "      <td>82.668126</td>\n",
              "      <td>0.485211</td>\n",
              "      <td>179.740795</td>\n",
              "      <td>179.187978</td>\n",
              "      <td>0.552817</td>\n",
              "    </tr>\n",
              "    <tr>\n",
              "      <th>247.0</th>\n",
              "      <td>32.579823</td>\n",
              "      <td>81.014422</td>\n",
              "      <td>52.064426</td>\n",
              "      <td>0.373579</td>\n",
              "      <td>176.032249</td>\n",
              "      <td>175.671511</td>\n",
              "      <td>0.360738</td>\n",
              "    </tr>\n",
              "    <tr>\n",
              "      <th>248.0</th>\n",
              "      <td>74.733952</td>\n",
              "      <td>62.756840</td>\n",
              "      <td>59.055469</td>\n",
              "      <td>2.278607</td>\n",
              "      <td>208.824868</td>\n",
              "      <td>206.496461</td>\n",
              "      <td>2.328408</td>\n",
              "    </tr>\n",
              "    <tr>\n",
              "      <th>249.0</th>\n",
              "      <td>59.477719</td>\n",
              "      <td>85.266348</td>\n",
              "      <td>54.175699</td>\n",
              "      <td>-0.345980</td>\n",
              "      <td>208.573787</td>\n",
              "      <td>208.935847</td>\n",
              "      <td>-0.362060</td>\n",
              "    </tr>\n",
              "  </tbody>\n",
              "</table>\n",
              "<p>250000 rows × 7 columns</p>\n",
              "</div>"
            ],
            "text/plain": [
              "                    x1         x2         x3  ...           Y       y_hat     e_hat\n",
              "rep   index                                   ...                                  \n",
              "0.0   0.0    43.698982  48.033722  98.002996  ...  201.017749  200.004546  1.013203\n",
              "      1.0    35.822274  70.618186  36.910537  ...  152.701680  153.259919 -0.558240\n",
              "      2.0    21.161244  31.921227  76.981262  ...  139.405758  140.417932 -1.012174\n",
              "      3.0    80.732617  91.677411  35.302069  ...  217.896903  217.316696  0.580207\n",
              "      4.0    79.853972  23.842953  87.401787  ...  200.807936  201.301229 -0.493292\n",
              "...                ...        ...        ...  ...         ...         ...       ...\n",
              "999.0 245.0  77.710734  65.471749  71.440028  ...  222.559143  224.589166 -2.030023\n",
              "      246.0  41.375839  45.211620  82.668126  ...  179.740795  179.187978  0.552817\n",
              "      247.0  32.579823  81.014422  52.064426  ...  176.032249  175.671511  0.360738\n",
              "      248.0  74.733952  62.756840  59.055469  ...  208.824868  206.496461  2.328408\n",
              "      249.0  59.477719  85.266348  54.175699  ...  208.573787  208.935847 -0.362060\n",
              "\n",
              "[250000 rows x 7 columns]"
            ]
          },
          "metadata": {},
          "execution_count": 33
        }
      ]
    },
    {
      "cell_type": "code",
      "metadata": {
        "colab": {
          "base_uri": "https://localhost:8080/",
          "height": 17
        },
        "id": "h5Qlst3U2Wnq",
        "outputId": "73a12ebe-eda2-4d0b-8338-863ca89af1da"
      },
      "source": [
        "table_data_all.to_csv('data_newvar3_n250.csv')\n",
        "files.download('data_newvar3_n250.csv')"
      ],
      "execution_count": 34,
      "outputs": [
        {
          "output_type": "display_data",
          "data": {
            "application/javascript": [
              "\n",
              "    async function download(id, filename, size) {\n",
              "      if (!google.colab.kernel.accessAllowed) {\n",
              "        return;\n",
              "      }\n",
              "      const div = document.createElement('div');\n",
              "      const label = document.createElement('label');\n",
              "      label.textContent = `Downloading \"${filename}\": `;\n",
              "      div.appendChild(label);\n",
              "      const progress = document.createElement('progress');\n",
              "      progress.max = size;\n",
              "      div.appendChild(progress);\n",
              "      document.body.appendChild(div);\n",
              "\n",
              "      const buffers = [];\n",
              "      let downloaded = 0;\n",
              "\n",
              "      const channel = await google.colab.kernel.comms.open(id);\n",
              "      // Send a message to notify the kernel that we're ready.\n",
              "      channel.send({})\n",
              "\n",
              "      for await (const message of channel.messages) {\n",
              "        // Send a message to notify the kernel that we're ready.\n",
              "        channel.send({})\n",
              "        if (message.buffers) {\n",
              "          for (const buffer of message.buffers) {\n",
              "            buffers.push(buffer);\n",
              "            downloaded += buffer.byteLength;\n",
              "            progress.value = downloaded;\n",
              "          }\n",
              "        }\n",
              "      }\n",
              "      const blob = new Blob(buffers, {type: 'application/binary'});\n",
              "      const a = document.createElement('a');\n",
              "      a.href = window.URL.createObjectURL(blob);\n",
              "      a.download = filename;\n",
              "      div.appendChild(a);\n",
              "      a.click();\n",
              "      div.remove();\n",
              "    }\n",
              "  "
            ],
            "text/plain": [
              "<IPython.core.display.Javascript object>"
            ]
          },
          "metadata": {}
        },
        {
          "output_type": "display_data",
          "data": {
            "application/javascript": [
              "download(\"download_b5619c1b-c33f-42e6-9dd3-9df65f891362\", \"data_newvar3_n250.csv\", 35591005)"
            ],
            "text/plain": [
              "<IPython.core.display.Javascript object>"
            ]
          },
          "metadata": {}
        }
      ]
    }
  ]
}