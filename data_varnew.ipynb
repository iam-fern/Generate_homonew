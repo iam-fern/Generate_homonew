{
  "nbformat": 4,
  "nbformat_minor": 0,
  "metadata": {
    "colab": {
      "name": "data_varnew.ipynb",
      "provenance": [],
      "include_colab_link": true
    },
    "kernelspec": {
      "name": "python3",
      "display_name": "Python 3"
    },
    "language_info": {
      "name": "python"
    }
  },
  "cells": [
    {
      "cell_type": "markdown",
      "metadata": {
        "id": "view-in-github",
        "colab_type": "text"
      },
      "source": [
        "<a href=\"https://colab.research.google.com/github/iam-fern/Generate_homonew/blob/main/data_varnew.ipynb\" target=\"_parent\"><img src=\"https://colab.research.google.com/assets/colab-badge.svg\" alt=\"Open In Colab\"/></a>"
      ]
    },
    {
      "cell_type": "markdown",
      "metadata": {
        "id": "byXsWNU60cf1"
      },
      "source": [
        "#Generating random numbers from a uniform distribution\n",
        "https://subscription.packtpub.com/book/big_data_and_business_intelligence/9781787125698/12/ch25lvl1sec126/generating-random-numbers-from-a-uniform-distribution"
      ]
    },
    {
      "cell_type": "code",
      "metadata": {
        "id": "v72YiLRL0bNa",
        "outputId": "1b6c7c83-6650-4bfc-c670-dae2e647609d",
        "colab": {
          "base_uri": "https://localhost:8080/"
        }
      },
      "source": [
        "import pandas as pd\n",
        "import numpy as np\n",
        "import scipy as sp\n",
        "import matplotlib.pyplot as plt\n",
        "from scipy.stats import norm\n",
        "from numpy.random import normal\n",
        "import statistics\n",
        "import statistics as stats\n",
        "import scipy.stats as ss\n",
        "from scipy import stats\n",
        "import scipy.stats as stats\n",
        "import random\n",
        "import statsmodels.api as sm\n",
        "%matplotlib inline\n",
        "from google.colab import files"
      ],
      "execution_count": 1,
      "outputs": [
        {
          "output_type": "stream",
          "name": "stderr",
          "text": [
            "/usr/local/lib/python3.7/dist-packages/statsmodels/tools/_testing.py:19: FutureWarning: pandas.util.testing is deprecated. Use the functions in the public API at pandas.testing instead.\n",
            "  import pandas.util.testing as tm\n"
          ]
        }
      ]
    },
    {
      "cell_type": "code",
      "source": [
        "n=250\n",
        "rep=0\n",
        "sp.random.seed(314157)\n",
        "table_data_all=pd.DataFrame({\"rep\":[]})\n",
        "\n",
        "for i in range(1000):\n",
        "    data = pd.DataFrame({\"X1\" : sp.random.uniform(20, 100, n),\n",
        "                         \"X2\" : sp.random.uniform(20, 100, n),\n",
        "                         \"X3\" : sp.random.uniform(20, 100, n)})\n",
        "    table_data = data.copy()\n",
        "    table_data[\"e\"] = table_data[\"X2\"].apply(lambda X2: np.random.normal(0, 1))\n",
        "\n",
        "    # ==========================================\n",
        "\n",
        "    # table_data = data_new.copy()\n",
        "\n",
        "\n",
        "    table_data[\"Y\"] = 10 + table_data[\"X1\"] + table_data[\"X2\"] + table_data[\"X3\"] + table_data[\"e\"]\n",
        "    \n",
        "    table_data=table_data.reset_index(drop=True).reset_index()\n",
        "    table_data[\"rep\"]=rep\n",
        "    new_data = table_data.copy()\n",
        "\n",
        "    # ==========================================\n",
        "    x = new_data[[\"X1\", \"X2\", \"X3\",]]\n",
        "    y = new_data[\"Y\"]\n",
        "    x = sm.add_constant(x)\n",
        "    model = sm.OLS(y, x).fit()\n",
        "    y_pred = model.predict(x)\n",
        "\n",
        "    df = pd.DataFrame({\"Actual\": y, \"Predicted\": y_pred})\n",
        "\n",
        "    table_data_new = pd.DataFrame({\"x1\"    : new_data[\"X1\"],\n",
        "                                   \"x2\"    : new_data[\"X2\"],\n",
        "                                   \"x3\"    : new_data[\"X3\"],\n",
        "                                   \"e\"     : new_data[\"e\"],\n",
        "                                   \"Y\"     : df[\"Actual\"],\n",
        "                                   \"y_hat\" : df[\"Predicted\"]})\n",
        "    table_data_new[\"e_hat\"] = table_data_new[\"Y\"] - table_data_new[\"y_hat\"]\n",
        "    table_data_new[\"rep\"] = rep\n",
        "    table_data_new = table_data_new.reset_index()\n",
        "    table_data_new\n",
        "    # ==========================================\n",
        "    table_data_all=pd.concat([table_data_all,table_data_new],axis=0,ignore_index=True,sort=False)\n",
        "    rep+=1\n",
        "    if rep==1000:\n",
        "      break\n",
        "table_data_all=table_data_all.set_index([\"rep\", \"index\"])\n",
        "table_data_all"
      ],
      "metadata": {
        "id": "cIq_D6Q0MvvH",
        "outputId": "2d387b7d-5797-455b-b9fb-ca924ffaedb9",
        "colab": {
          "base_uri": "https://localhost:8080/",
          "height": 455
        }
      },
      "execution_count": 31,
      "outputs": [
        {
          "output_type": "execute_result",
          "data": {
            "text/html": [
              "<div>\n",
              "<style scoped>\n",
              "    .dataframe tbody tr th:only-of-type {\n",
              "        vertical-align: middle;\n",
              "    }\n",
              "\n",
              "    .dataframe tbody tr th {\n",
              "        vertical-align: top;\n",
              "    }\n",
              "\n",
              "    .dataframe thead th {\n",
              "        text-align: right;\n",
              "    }\n",
              "</style>\n",
              "<table border=\"1\" class=\"dataframe\">\n",
              "  <thead>\n",
              "    <tr style=\"text-align: right;\">\n",
              "      <th></th>\n",
              "      <th></th>\n",
              "      <th>x1</th>\n",
              "      <th>x2</th>\n",
              "      <th>x3</th>\n",
              "      <th>e</th>\n",
              "      <th>Y</th>\n",
              "      <th>y_hat</th>\n",
              "      <th>e_hat</th>\n",
              "    </tr>\n",
              "    <tr>\n",
              "      <th>rep</th>\n",
              "      <th>index</th>\n",
              "      <th></th>\n",
              "      <th></th>\n",
              "      <th></th>\n",
              "      <th></th>\n",
              "      <th></th>\n",
              "      <th></th>\n",
              "      <th></th>\n",
              "    </tr>\n",
              "  </thead>\n",
              "  <tbody>\n",
              "    <tr>\n",
              "      <th rowspan=\"5\" valign=\"top\">0.0</th>\n",
              "      <th>0.0</th>\n",
              "      <td>68.854520</td>\n",
              "      <td>58.707153</td>\n",
              "      <td>61.211187</td>\n",
              "      <td>-0.063480</td>\n",
              "      <td>198.709380</td>\n",
              "      <td>198.757016</td>\n",
              "      <td>-0.047637</td>\n",
              "    </tr>\n",
              "    <tr>\n",
              "      <th>1.0</th>\n",
              "      <td>57.329540</td>\n",
              "      <td>88.266135</td>\n",
              "      <td>33.974483</td>\n",
              "      <td>-0.248526</td>\n",
              "      <td>189.321632</td>\n",
              "      <td>189.517988</td>\n",
              "      <td>-0.196356</td>\n",
              "    </tr>\n",
              "    <tr>\n",
              "      <th>2.0</th>\n",
              "      <td>45.215694</td>\n",
              "      <td>22.043105</td>\n",
              "      <td>89.071799</td>\n",
              "      <td>1.292699</td>\n",
              "      <td>167.623296</td>\n",
              "      <td>166.390067</td>\n",
              "      <td>1.233229</td>\n",
              "    </tr>\n",
              "    <tr>\n",
              "      <th>3.0</th>\n",
              "      <td>69.375325</td>\n",
              "      <td>71.150993</td>\n",
              "      <td>24.742899</td>\n",
              "      <td>0.570556</td>\n",
              "      <td>175.839774</td>\n",
              "      <td>175.267298</td>\n",
              "      <td>0.572476</td>\n",
              "    </tr>\n",
              "    <tr>\n",
              "      <th>4.0</th>\n",
              "      <td>87.837297</td>\n",
              "      <td>47.725671</td>\n",
              "      <td>65.999025</td>\n",
              "      <td>-0.753288</td>\n",
              "      <td>210.808704</td>\n",
              "      <td>211.557807</td>\n",
              "      <td>-0.749103</td>\n",
              "    </tr>\n",
              "    <tr>\n",
              "      <th>...</th>\n",
              "      <th>...</th>\n",
              "      <td>...</td>\n",
              "      <td>...</td>\n",
              "      <td>...</td>\n",
              "      <td>...</td>\n",
              "      <td>...</td>\n",
              "      <td>...</td>\n",
              "      <td>...</td>\n",
              "    </tr>\n",
              "    <tr>\n",
              "      <th rowspan=\"5\" valign=\"top\">999.0</th>\n",
              "      <th>245.0</th>\n",
              "      <td>22.462586</td>\n",
              "      <td>64.986534</td>\n",
              "      <td>22.662754</td>\n",
              "      <td>0.505644</td>\n",
              "      <td>120.617519</td>\n",
              "      <td>119.949519</td>\n",
              "      <td>0.668000</td>\n",
              "    </tr>\n",
              "    <tr>\n",
              "      <th>246.0</th>\n",
              "      <td>65.758199</td>\n",
              "      <td>97.986011</td>\n",
              "      <td>91.293587</td>\n",
              "      <td>-1.165981</td>\n",
              "      <td>263.871815</td>\n",
              "      <td>264.932111</td>\n",
              "      <td>-1.060296</td>\n",
              "    </tr>\n",
              "    <tr>\n",
              "      <th>247.0</th>\n",
              "      <td>43.850566</td>\n",
              "      <td>82.988350</td>\n",
              "      <td>93.879229</td>\n",
              "      <td>1.020970</td>\n",
              "      <td>231.739115</td>\n",
              "      <td>230.493533</td>\n",
              "      <td>1.245582</td>\n",
              "    </tr>\n",
              "    <tr>\n",
              "      <th>248.0</th>\n",
              "      <td>44.150395</td>\n",
              "      <td>26.941848</td>\n",
              "      <td>96.556657</td>\n",
              "      <td>-0.246687</td>\n",
              "      <td>177.402213</td>\n",
              "      <td>177.348111</td>\n",
              "      <td>0.054102</td>\n",
              "    </tr>\n",
              "    <tr>\n",
              "      <th>249.0</th>\n",
              "      <td>88.062161</td>\n",
              "      <td>23.980807</td>\n",
              "      <td>27.737661</td>\n",
              "      <td>-1.853273</td>\n",
              "      <td>147.927357</td>\n",
              "      <td>149.834073</td>\n",
              "      <td>-1.906715</td>\n",
              "    </tr>\n",
              "  </tbody>\n",
              "</table>\n",
              "<p>250000 rows × 7 columns</p>\n",
              "</div>"
            ],
            "text/plain": [
              "                    x1         x2         x3  ...           Y       y_hat     e_hat\n",
              "rep   index                                   ...                                  \n",
              "0.0   0.0    68.854520  58.707153  61.211187  ...  198.709380  198.757016 -0.047637\n",
              "      1.0    57.329540  88.266135  33.974483  ...  189.321632  189.517988 -0.196356\n",
              "      2.0    45.215694  22.043105  89.071799  ...  167.623296  166.390067  1.233229\n",
              "      3.0    69.375325  71.150993  24.742899  ...  175.839774  175.267298  0.572476\n",
              "      4.0    87.837297  47.725671  65.999025  ...  210.808704  211.557807 -0.749103\n",
              "...                ...        ...        ...  ...         ...         ...       ...\n",
              "999.0 245.0  22.462586  64.986534  22.662754  ...  120.617519  119.949519  0.668000\n",
              "      246.0  65.758199  97.986011  91.293587  ...  263.871815  264.932111 -1.060296\n",
              "      247.0  43.850566  82.988350  93.879229  ...  231.739115  230.493533  1.245582\n",
              "      248.0  44.150395  26.941848  96.556657  ...  177.402213  177.348111  0.054102\n",
              "      249.0  88.062161  23.980807  27.737661  ...  147.927357  149.834073 -1.906715\n",
              "\n",
              "[250000 rows x 7 columns]"
            ]
          },
          "metadata": {},
          "execution_count": 31
        }
      ]
    },
    {
      "cell_type": "code",
      "metadata": {
        "colab": {
          "base_uri": "https://localhost:8080/",
          "height": 17
        },
        "id": "h5Qlst3U2Wnq",
        "outputId": "2e5135b9-2021-43d7-ec6c-fccbaa7aeb2b"
      },
      "source": [
        "table_data_all.to_csv('data_newvar3_n250.csv')\n",
        "files.download('data_newvar3_n250.csv')"
      ],
      "execution_count": 32,
      "outputs": [
        {
          "output_type": "display_data",
          "data": {
            "application/javascript": [
              "\n",
              "    async function download(id, filename, size) {\n",
              "      if (!google.colab.kernel.accessAllowed) {\n",
              "        return;\n",
              "      }\n",
              "      const div = document.createElement('div');\n",
              "      const label = document.createElement('label');\n",
              "      label.textContent = `Downloading \"${filename}\": `;\n",
              "      div.appendChild(label);\n",
              "      const progress = document.createElement('progress');\n",
              "      progress.max = size;\n",
              "      div.appendChild(progress);\n",
              "      document.body.appendChild(div);\n",
              "\n",
              "      const buffers = [];\n",
              "      let downloaded = 0;\n",
              "\n",
              "      const channel = await google.colab.kernel.comms.open(id);\n",
              "      // Send a message to notify the kernel that we're ready.\n",
              "      channel.send({})\n",
              "\n",
              "      for await (const message of channel.messages) {\n",
              "        // Send a message to notify the kernel that we're ready.\n",
              "        channel.send({})\n",
              "        if (message.buffers) {\n",
              "          for (const buffer of message.buffers) {\n",
              "            buffers.push(buffer);\n",
              "            downloaded += buffer.byteLength;\n",
              "            progress.value = downloaded;\n",
              "          }\n",
              "        }\n",
              "      }\n",
              "      const blob = new Blob(buffers, {type: 'application/binary'});\n",
              "      const a = document.createElement('a');\n",
              "      a.href = window.URL.createObjectURL(blob);\n",
              "      a.download = filename;\n",
              "      div.appendChild(a);\n",
              "      a.click();\n",
              "      div.remove();\n",
              "    }\n",
              "  "
            ],
            "text/plain": [
              "<IPython.core.display.Javascript object>"
            ]
          },
          "metadata": {}
        },
        {
          "output_type": "display_data",
          "data": {
            "application/javascript": [
              "download(\"download_7fd83933-60ce-4105-953c-79b53af8b4f4\", \"data_newvar3_n250.csv\", 35591942)"
            ],
            "text/plain": [
              "<IPython.core.display.Javascript object>"
            ]
          },
          "metadata": {}
        }
      ]
    }
  ]
}